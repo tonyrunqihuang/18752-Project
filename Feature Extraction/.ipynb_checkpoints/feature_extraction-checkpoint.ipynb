{
 "cells": [
  {
   "cell_type": "code",
   "execution_count": 118,
   "metadata": {},
   "outputs": [],
   "source": [
    "import cv2\n",
    "import numpy as np\n",
    "import pandas as pd\n",
    "import matplotlib.pyplot as plt\n",
    "from os.path import join\n",
    "from tqdm import tqdm\n",
    "\n",
    "import torch\n",
    "import torchvision\n",
    "import torch.nn as nn\n",
    "import torch.nn.functional as F\n",
    "import torch.optim as optim\n",
    "from torch.utils.data import DataLoader, Dataset\n",
    "from torchvision import datasets, transforms\n",
    "\n",
    "from skimage.io import imread, imshow\n",
    "from skimage.transform import resize\n",
    "from skimage.feature import hog\n",
    "from skimage import data, exposure"
   ]
  },
  {
   "cell_type": "code",
   "execution_count": 119,
   "metadata": {},
   "outputs": [],
   "source": [
    "data = open(\"../data/data_files.txt\").read().splitlines()\n",
    "labels = np.loadtxt(\"../data/data_labels.txt\", np.int32)"
   ]
  },
  {
   "cell_type": "code",
   "execution_count": 120,
   "metadata": {},
   "outputs": [],
   "source": [
    "train_data_set = []\n",
    "for img_name in data:\n",
    "    img_path = '../data/{}.png'.format(img_name)\n",
    "    img = plt.imread(img_path)\n",
    "    img = img[:, :, 0]\n",
    "    img = resize(img, (64,64)) \n",
    "    train_data_set.append(img)"
   ]
  },
  {
   "cell_type": "code",
   "execution_count": 122,
   "metadata": {},
   "outputs": [
    {
     "data": {
      "image/png": "[encoded data removed]",
      "text/plain": [
       "<Figure size 432x288 with 1 Axes>"
      ]
     },
     "metadata": {
      "needs_background": "light"
     },
     "output_type": "display_data"
    }
   ],
   "source": [
    "# Sample Image\n",
    "sample_idx = 50\n",
    "sample_img = train_data_set[sample_idx]\n",
    "plt.figure()\n",
    "plt.axis(\"off\")\n",
    "plt.imshow(sample_img)\n",
    "plt.show()"
   ]
  },
  {
   "cell_type": "code",
   "execution_count": 123,
   "metadata": {},
   "outputs": [],
   "source": [
    "# Feature Extraction 1: Histogram of Gradient (HOG)\n",
    "\n",
    "def hog_features_extractor(img):\n",
    "    fd, hog_img = hog(img, orientations=9, pixels_per_cell=(8, 8), cells_per_block=(2, 2), \n",
    "                  visualize=True, multichannel=False)\n",
    "    return fd, hog_img"
   ]
  },
  {
   "cell_type": "code",
   "execution_count": 124,
   "metadata": {},
   "outputs": [],
   "source": [
    "# HOG Features for the Dataset\n",
    "\n",
    "hog_features, hog_imgs = [], []\n",
    "\n",
    "for img in train_data_set:\n",
    "    fd, hog_img = hog_features_extractor(img)\n",
    "    hog_features.append(fd)\n",
    "    hog_imgs.append(hog_img)"
   ]
  },
  {
   "cell_type": "code",
   "execution_count": 125,
   "metadata": {},
   "outputs": [
    {
     "data": {
      "image/png": "[encoded data removed]",
      "text/plain": [
       "<Figure size 1152x504 with 2 Axes>"
      ]
     },
     "metadata": {
      "needs_background": "light"
     },
     "output_type": "display_data"
    }
   ],
   "source": [
    "# sample HOG visualization\n",
    "\n",
    "fig, (ax1, ax2) = plt.subplots(1, 2, figsize=(16, 7), sharex=True, sharey=True) \n",
    "\n",
    "ax1.imshow(sample_img, cmap=plt.cm.gray) \n",
    "ax1.set_title('Sample Digit')\n",
    "ax1.axis(\"off\")\n",
    "\n",
    "hog_rescaled = exposure.rescale_intensity(hog_imgs[sample_idx], in_range=(0, 10)) \n",
    "\n",
    "ax2.imshow(hog_rescaled, cmap=plt.cm.gray) \n",
    "ax2.set_title('Histogram of Oriented Gradients (HOG)')\n",
    "ax2.axis(\"off\")\n",
    "\n",
    "plt.savefig(\"hog.png\", dpi=125)\n",
    "plt.show()"
   ]
  },
  {
   "cell_type": "code",
   "execution_count": 126,
   "metadata": {},
   "outputs": [],
   "source": [
    "# Feature Extraction 2: SIFT Corner Detection\n",
    "\n",
    "def sift_feature_extractor(img):\n",
    "    sift = cv2.SIFT_create()\n",
    "    key_points = sift.detect(img, None)\n",
    "    return key_points"
   ]
  },
  {
   "cell_type": "code",
   "execution_count": null,
   "metadata": {},
   "outputs": [],
   "source": [
    "# generate SIFT keypoints for the dataset\n",
    "kpts = []\n",
    "for img_name in data:\n",
    "    img_path = '../data/{}.png'.format(img_name)\n",
    "    img = cv2.imread(img_path)\n",
    "    key_points = sift_feature_extractor(img)\n",
    "    kpts.append(key_points)"
   ]
  },
  {
   "cell_type": "code",
   "execution_count": 127,
   "metadata": {},
   "outputs": [
    {
     "data": {
      "image/png": "[encoded data removed]",
      "text/plain": [
       "<Figure size 432x288 with 1 Axes>"
      ]
     },
     "metadata": {
      "needs_background": "light"
     },
     "output_type": "display_data"
    }
   ],
   "source": [
    "# sample SIFT keypoints\n",
    "\n",
    "img = cv2.imread('../data/img_{}.png'.format(sample_idx))\n",
    "key_points = sift_feature_extractor(img)\n",
    "\n",
    "img_ = cv2.drawKeypoints(img, key_points, img)\n",
    "\n",
    "plt.figure()\n",
    "plt.axis('off')\n",
    "plt.imshow(img_)\n",
    "plt.savefig(\"SIFT.png\", dpi=300)\n",
    "plt.show()"
   ]
  },
  {
   "cell_type": "code",
   "execution_count": 174,
   "metadata": {},
   "outputs": [],
   "source": [
    "# Feature Extraction 3: Neural Network\n",
    "# x from the fully connected layer (fc2) is a feature vector of the data\n",
    "\n",
    "class CNN(nn.Module):\n",
    "    def __init__(self):\n",
    "        super(CNN, self).__init__()\n",
    "        self.conv1 = nn.Conv2d(1, 32, 3, 1)\n",
    "        self.conv2 = nn.Conv2d(32, 64, 3, 1)\n",
    "        self.fc1 = nn.Linear(9216, 128)\n",
    "        self.fc2 = nn.Linear(128, 10)\n",
    "\n",
    "    def forward(self, x):\n",
    "        x = F.relu(self.conv1(x))\n",
    "        x = F.relu(self.conv2(x))\n",
    "        x = F.max_pool2d(x, 2)\n",
    "        x = torch.flatten(x, 1)\n",
    "        x = F.relu(self.fc1(x))\n",
    "        x = self.fc2(x)\n",
    "        output = F.log_softmax(x, dim=1)\n",
    "        return x, output"
   ]
  },
  {
   "cell_type": "code",
   "execution_count": 176,
   "metadata": {},
   "outputs": [],
   "source": [
    "# Data Loader\n",
    "\n",
    "transform = transforms.Compose([transforms.ToTensor(), transforms.Normalize((0.1307,), (0.3081,))])\n",
    "train_loader = datasets.MNIST('../data', train=True, download=True, transform=transform)\n",
    "train_loader = torch.utils.data.DataLoader(train_loader, batch_size=64, shuffle=True)"
   ]
  },
  {
   "cell_type": "code",
   "execution_count": 177,
   "metadata": {},
   "outputs": [],
   "source": [
    "model = CNN()\n",
    "optimizer = optim.Adam(model.parameters())"
   ]
  },
  {
   "cell_type": "code",
   "execution_count": 182,
   "metadata": {},
   "outputs": [],
   "source": [
    "def train(model, optimizer, data_loader, n_epochs=10):\n",
    "    model.train()\n",
    "    \n",
    "    train_loss = []        \n",
    "    for data, target in tqdm(data_loader):\n",
    "        target = target.type(torch.LongTensor)\n",
    "        optimizer.zero_grad()\n",
    "        x, output = model(data)\n",
    "        loss = F.nll_loss(output, target)\n",
    "        loss.backward()\n",
    "        optimizer.step()\n",
    "        \n",
    "        train_loss.append(loss.item())\n",
    "            \n",
    "    return train_loss"
   ]
  },
  {
   "cell_type": "code",
   "execution_count": 183,
   "metadata": {},
   "outputs": [
    {
     "name": "stderr",
     "output_type": "stream",
     "text": [
      "100%|██████████| 938/938 [02:14<00:00,  6.99it/s]\n"
     ]
    }
   ],
   "source": [
    "loss = train(model, optimizer, train_loader)"
   ]
  },
  {
   "cell_type": "code",
   "execution_count": 184,
   "metadata": {},
   "outputs": [],
   "source": [
    "torch.save(model.state_dict(), \"cnn.pt\")"
   ]
  },
  {
   "cell_type": "code",
   "execution_count": 186,
   "metadata": {},
   "outputs": [
    {
     "name": "stdout",
     "output_type": "stream",
     "text": [
      "[0.04834922403097153]\n"
     ]
    },
    {
     "data": {
      "image/png": "[encoded data removed]",
      "text/plain": [
       "<Figure size 432x288 with 1 Axes>"
      ]
     },
     "metadata": {
      "needs_background": "light"
     },
     "output_type": "display_data"
    }
   ],
   "source": [
    "plt.figure()\n",
    "plt.plot(np.arange(len(loss)), loss)\n",
    "plt.title('Neural Network (CNN) Training Loss')\n",
    "plt.ylabel('Loss')\n",
    "plt.xlabel('Training Episodes')\n",
    "plt.show()"
   ]
  },
  {
   "cell_type": "code",
   "execution_count": null,
   "metadata": {},
   "outputs": [],
   "source": []
  }
 ],
 "metadata": {
  "kernelspec": {
   "display_name": "Python 3",
   "language": "python",
   "name": "python3"
  },
  "language_info": {
   "codemirror_mode": {
    "name": "ipython",
    "version": 3
   },
   "file_extension": ".py",
   "mimetype": "text/x-python",
   "name": "python",
   "nbconvert_exporter": "python",
   "pygments_lexer": "ipython3",
   "version": "3.7.3"
  }
 },
 "nbformat": 4,
 "nbformat_minor": 4
}
